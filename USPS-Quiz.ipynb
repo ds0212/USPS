{
 "cells": [
  {
   "cell_type": "code",
   "execution_count": 1,
   "id": "abc1021a",
   "metadata": {},
   "outputs": [
    {
     "name": "stdout",
     "output_type": "stream",
     "text": [
      "Success!\n",
      "HTTP error occurred: 404 Client Error: Not Found for url: https://api.usps.com/invalid\n"
     ]
    }
   ],
   "source": [
    "import requests\n",
    "from requests.exceptions import HTTPError\n",
    "\n",
    "for url in ['https://tools.usps.com/zip-code-lookup.htm?byaddress', 'https://api.usps.com/invalid']:\n",
    "    try:\n",
    "        response = requests.get(url,allow_redirects=False)\n",
    "\n",
    "        # If the response was successful, no Exception will be raised\n",
    "        response.raise_for_status()\n",
    "    except HTTPError as http_err:\n",
    "        print(f'HTTP error occurred: {http_err}')  # Python 3.6\n",
    "    except Exception as err:\n",
    "        print(f'Other error occurred: {err}')  # Python 3.6\n",
    "    else:\n",
    "        print('Success!')"
   ]
  },
  {
   "cell_type": "code",
   "execution_count": 2,
   "id": "a12b4946",
   "metadata": {},
   "outputs": [
    {
     "name": "stdout",
     "output_type": "stream",
     "text": [
      "<RequestsCookieJar[]>\n"
     ]
    }
   ],
   "source": [
    "import requests\n",
    "\n",
    "URL = 'https://tools.usps.com/zip-code-lookup.htm?byaddress'\n",
    "payload = {\n",
    "    'Company': 'BEND PAWN & TRADING CO-LAPINE',\n",
    "    'Street': '52504 U.S. 97',\n",
    "    'City': 'LA PINE',\n",
    "    'St':'OR',\n",
    "    'ZIPCode':97739 # remember me\n",
    "}\n",
    "\n",
    "session = requests.session()\n",
    "r = requests.post(URL, data=payload, allow_redirects=False)\n",
    "print (r.cookies)"
   ]
  },
  {
   "cell_type": "code",
   "execution_count": null,
   "id": "8d8118ac",
   "metadata": {},
   "outputs": [],
   "source": []
  },
  {
   "cell_type": "code",
   "execution_count": null,
   "id": "5535411e",
   "metadata": {},
   "outputs": [],
   "source": [
    "import requests\n",
    "\n",
    "url = \"https://uspszakutynskyv1.p.rapidapi.com/getDeliveryStatus\"\n",
    "\n",
    "payload = \"userId=%3CREQUIRED%3E&trackId=%3CREQUIRED%3E\"\n",
    "headers = {\n",
    "    'content-type': \"application/x-www-form-urlencoded\",\n",
    "    'x-rapidapi-host': \"USPSzakutynskyV1.p.rapidapi.com\",\n",
    "    'x-rapidapi-key': \"0047ca5db9msh4fd5043ca08e6e7p1a3457jsn9f0dfe255e32\"\n",
    "    }\n",
    "\n",
    "response = requests.request(\"POST\", url, data=payload, headers=headers)\n",
    "\n",
    "print(response.text)"
   ]
  },
  {
   "cell_type": "code",
   "execution_count": null,
   "id": "d02e839e",
   "metadata": {},
   "outputs": [],
   "source": [
    "# import requests\n",
    "# import urllib\n",
    "\n",
    "# from urllib.parse import *\n",
    "# request_args = {\n",
    "#     'API': 'TrackV2',\n",
    "#     'XML': \"\"\"<?xml version=\"1.0\" encoding=\"UTF-8\" ?>\n",
    "# <TrackFieldRequest USERID=\"xxxx\">\n",
    "#   <Revision>1</Revision>\n",
    "#   <ClientIp>111.0.0.1</ClientIp>\n",
    "#   <SourceId>hello</SourceId>\n",
    "#   <TrackID ID=\"xxxx\"></TrackID>\n",
    "# </TrackFieldRequest>\"\"\"\n",
    "# }\n",
    "\n",
    "# args = urllib.parse.urlencode(request_args)\n",
    "# response = requests.get('https://secure.shippingapis.com/ShippingAPI.dll?' + args)\n",
    "# print (response.text)"
   ]
  },
  {
   "cell_type": "code",
   "execution_count": null,
   "id": "8a30ca0b",
   "metadata": {},
   "outputs": [],
   "source": []
  },
  {
   "cell_type": "code",
   "execution_count": 14,
   "id": "15c8b5b8",
   "metadata": {
    "collapsed": true
   },
   "outputs": [
    {
     "name": "stdout",
     "output_type": "stream",
     "text": [
      "Collecting usps-api\n",
      "  Downloading usps-api-0.5.tar.gz (5.0 kB)\n",
      "Requirement already satisfied: requests in c:\\users\\dhrum\\anaconda3\\lib\\site-packages (from usps-api) (2.24.0)\n",
      "Requirement already satisfied: lxml in c:\\users\\dhrum\\anaconda3\\lib\\site-packages (from usps-api) (4.6.3)\n",
      "Requirement already satisfied: xmltodict in c:\\users\\dhrum\\anaconda3\\lib\\site-packages (from usps-api) (0.12.0)\n",
      "Requirement already satisfied: chardet<4,>=3.0.2 in c:\\users\\dhrum\\anaconda3\\lib\\site-packages (from requests->usps-api) (3.0.4)\n",
      "Requirement already satisfied: certifi>=2017.4.17 in c:\\users\\dhrum\\anaconda3\\lib\\site-packages (from requests->usps-api) (2020.6.20)\n",
      "Requirement already satisfied: idna<3,>=2.5 in c:\\users\\dhrum\\anaconda3\\lib\\site-packages (from requests->usps-api) (2.10)\n",
      "Requirement already satisfied: urllib3!=1.25.0,!=1.25.1,<1.26,>=1.21.1 in c:\\users\\dhrum\\anaconda3\\lib\\site-packages (from requests->usps-api) (1.25.10)\n",
      "Building wheels for collected packages: usps-api\n",
      "  Building wheel for usps-api (setup.py): started\n",
      "  Building wheel for usps-api (setup.py): finished with status 'done'\n",
      "  Created wheel for usps-api: filename=usps_api-0.5-py3-none-any.whl size=5911 sha256=0fba249f71a2413d40336297155993d86880d1efe90f9fb50b9fa3d4bbaecb86\n",
      "  Stored in directory: c:\\users\\dhrum\\appdata\\local\\pip\\cache\\wheels\\96\\56\\01\\934d32a847be4565f79c95527479aa3ab271c079309c51654b\n",
      "Successfully built usps-api\n",
      "Installing collected packages: usps-api\n",
      "Successfully installed usps-api-0.5\n"
     ]
    }
   ],
   "source": [
    "!pip install usps-api\n"
   ]
  },
  {
   "cell_type": "code",
   "execution_count": 27,
   "id": "72e347a1",
   "metadata": {},
   "outputs": [
    {
     "name": "stdout",
     "output_type": "stream",
     "text": [
      "Company\n",
      "Street\n",
      "City\n",
      "St\n",
      "ZIPCode\n"
     ]
    }
   ],
   "source": [
    "import csv\n",
    "import pandas as pd\n",
    "df = pd.read_csv(\"Python Quiz Input - Sheet1.csv\")\n",
    "\n",
    "for ele in df:\n",
    "    print(ele)"
   ]
  },
  {
   "cell_type": "code",
   "execution_count": 32,
   "id": "7404c9ca",
   "metadata": {},
   "outputs": [],
   "source": [
    "import csv\n",
    "  \n",
    "# csv file name\n",
    "\n",
    "  \n",
    "# initializing the titles and rows list\n",
    "Company = []\n",
    "Street = []\n",
    "City = []\n",
    "St = []\n",
    "ZIPCode = []\n",
    "   \n",
    "# reading csv file\n",
    "with open(\"Python Quiz Input - Sheet1.csv\", 'r') as csvfile:\n",
    "    # creating a csv reader object\n",
    "    csvreader = csv.reader(csvfile)\n",
    "      \n",
    "    # extracting field names through first row\n",
    "    fields = next(csvreader)\n",
    "  \n",
    "    # extracting each data row one by one\n",
    "    for row in csvreader:\n",
    "        Company.append(row[0])\n",
    "        Street.append(row[1])\n",
    "        City.append(row[2])\n",
    "        St.append(row[3])\n",
    "        ZIPCode.append(row[4])\n"
   ]
  },
  {
   "cell_type": "code",
   "execution_count": 34,
   "id": "ec7f9513",
   "metadata": {},
   "outputs": [
    {
     "name": "stdout",
     "output_type": "stream",
     "text": [
      "['BEND PAWN & TRADING CO-LAPINE', 'CARDIOSTART RESALE THRIFT STR', 'CASH AMERICA PAWN', 'DAV THRIFT STORE', 'NEW THRIFT STORE', 'POLK FLEA MARKET', 'PORTLAND SATURDAY MARKET', 'POSSIBILITIES THRIFT STORE', 'SHERWOOD SATURDAY MARKET', 'TRADERS VILLAGE GRAND PRAIRIE', 'TRASH TO TREASURE']\n"
     ]
    }
   ],
   "source": [
    "print(Company)"
   ]
  },
  {
   "cell_type": "code",
   "execution_count": null,
   "id": "eba7d645",
   "metadata": {},
   "outputs": [],
   "source": []
  },
  {
   "cell_type": "code",
   "execution_count": null,
   "id": "d8767faa",
   "metadata": {},
   "outputs": [],
   "source": []
  },
  {
   "cell_type": "code",
   "execution_count": 77,
   "id": "573d9ad1",
   "metadata": {},
   "outputs": [
    {
     "name": "stdout",
     "output_type": "stream",
     "text": [
      "Exception found -2147219401: Address Not Found.  \n",
      "OrderedDict([('address', '435 W CASCADE AVE'), ('city', 'SISTERS'), ('state', 'OR'), ('zip5', '97759'), ('zip4', None)])\n",
      "OrderedDict([('address', '2618 W INTERSTATE 20'), ('city', 'GRAND PRAIRIE'), ('state', 'TX'), ('zip5', '75052'), ('zip4', '7031')])\n",
      "OrderedDict([('address', '2310 ROCK ISLAND RD'), ('city', 'IRVING'), ('state', 'TX'), ('zip5', '75060'), ('zip4', '2409')])\n",
      "OrderedDict([('address', '3359 W WALNUT ST'), ('city', 'GARLAND'), ('state', 'TX'), ('zip5', '75042'), ('zip4', '7160'), ('returntext', 'Default address: The address you entered was found but more information is needed (such as an apartment, suite, or box number) to match to a specific address.')])\n",
      "OrderedDict([('address', '520 S PACIFIC HWY'), ('city', 'RICKREALL'), ('state', 'OR'), ('zip5', '97371'), ('zip4', None)])\n",
      "OrderedDict([('address', '2 SW NAITO PKWY'), ('city', 'PORTLAND'), ('state', 'OR'), ('zip5', '97204'), ('zip4', None)])\n",
      "Exception found -2147219401: Address Not Found.  \n",
      "OrderedDict([('address', '22622 SW PINE ST'), ('city', 'SHERWOOD'), ('state', 'OR'), ('zip5', '97140'), ('zip4', None)])\n",
      "OrderedDict([('address', '2602 MAYFIELD RD'), ('city', 'GRAND PRAIRIE'), ('state', 'TX'), ('zip5', '75052'), ('zip4', '7246')])\n",
      "Exception found -2147219401: Address Not Found.  \n"
     ]
    }
   ],
   "source": [
    "from pyusps import address_information\n",
    "IsValid = []\n",
    "for i in range(0,len(Company)):\n",
    "    \n",
    "    try:\n",
    "        addr = dict([\n",
    "             ('address', Street[i]),\n",
    "             ('city', City[i]),\n",
    "             ('state', St[i]),\n",
    "            ('zip5', ZIPCode[i]),\n",
    "             ])\n",
    "        \n",
    "        print(address_information.verify('141NIBS01737', addr))\n",
    "        IsValid.append(\"Valid\")\n",
    "    except Exception as e:\n",
    "        IsValid.append(\"Invalid\")\n",
    "        print(\"Exception found\", e)"
   ]
  },
  {
   "cell_type": "code",
   "execution_count": 78,
   "id": "25848c74",
   "metadata": {},
   "outputs": [
    {
     "data": {
      "text/plain": [
       "11"
      ]
     },
     "execution_count": 78,
     "metadata": {},
     "output_type": "execute_result"
    }
   ],
   "source": [
    "len(IsValid)"
   ]
  },
  {
   "cell_type": "code",
   "execution_count": null,
   "id": "165b0cab",
   "metadata": {},
   "outputs": [],
   "source": []
  },
  {
   "cell_type": "code",
   "execution_count": 89,
   "id": "c3b8eb21",
   "metadata": {},
   "outputs": [],
   "source": [
    "se = pd.Series(IsValid)\n",
    "\n",
    "df = pd.read_csv(\"Python Quiz Input - Sheet1 - Copy.csv\")\n",
    "df[\"IsValid\"] =  IsValid\n",
    "df.to_csv(\"Python Quiz Input - Sheet1 - Copy.csv\")"
   ]
  },
  {
   "cell_type": "code",
   "execution_count": 92,
   "id": "1aace111",
   "metadata": {},
   "outputs": [
    {
     "data": {
      "text/html": [
       "<div>\n",
       "<style scoped>\n",
       "    .dataframe tbody tr th:only-of-type {\n",
       "        vertical-align: middle;\n",
       "    }\n",
       "\n",
       "    .dataframe tbody tr th {\n",
       "        vertical-align: top;\n",
       "    }\n",
       "\n",
       "    .dataframe thead th {\n",
       "        text-align: right;\n",
       "    }\n",
       "</style>\n",
       "<table border=\"1\" class=\"dataframe\">\n",
       "  <thead>\n",
       "    <tr style=\"text-align: right;\">\n",
       "      <th></th>\n",
       "      <th>Unnamed: 0</th>\n",
       "      <th>Company</th>\n",
       "      <th>Street</th>\n",
       "      <th>City</th>\n",
       "      <th>St</th>\n",
       "      <th>ZIPCode</th>\n",
       "      <th>IsValid</th>\n",
       "    </tr>\n",
       "  </thead>\n",
       "  <tbody>\n",
       "    <tr>\n",
       "      <th>0</th>\n",
       "      <td>0</td>\n",
       "      <td>BEND PAWN &amp; TRADING CO-LAPINE</td>\n",
       "      <td>52504 U.S. 97</td>\n",
       "      <td>LA PINE</td>\n",
       "      <td>OR</td>\n",
       "      <td>97739</td>\n",
       "      <td>Invalid</td>\n",
       "    </tr>\n",
       "    <tr>\n",
       "      <th>1</th>\n",
       "      <td>1</td>\n",
       "      <td>CARDIOSTART RESALE THRIFT STR</td>\n",
       "      <td>435 W CASCADE AVE</td>\n",
       "      <td>SISTERS</td>\n",
       "      <td>OR</td>\n",
       "      <td>97759</td>\n",
       "      <td>Valid</td>\n",
       "    </tr>\n",
       "    <tr>\n",
       "      <th>2</th>\n",
       "      <td>2</td>\n",
       "      <td>CASH AMERICA PAWN</td>\n",
       "      <td>2618 W INTERSTATE 20</td>\n",
       "      <td>GRAND PRAIRIE</td>\n",
       "      <td>TX</td>\n",
       "      <td>75052-7031</td>\n",
       "      <td>Valid</td>\n",
       "    </tr>\n",
       "    <tr>\n",
       "      <th>3</th>\n",
       "      <td>3</td>\n",
       "      <td>DAV THRIFT STORE</td>\n",
       "      <td>2310 ROCK ISLAND RD</td>\n",
       "      <td>IRVING</td>\n",
       "      <td>TX</td>\n",
       "      <td>75060-2409</td>\n",
       "      <td>Valid</td>\n",
       "    </tr>\n",
       "    <tr>\n",
       "      <th>4</th>\n",
       "      <td>4</td>\n",
       "      <td>NEW THRIFT STORE</td>\n",
       "      <td>3359 W WALNUT ST</td>\n",
       "      <td>GARLAND</td>\n",
       "      <td>TX</td>\n",
       "      <td>75042-7160</td>\n",
       "      <td>Valid</td>\n",
       "    </tr>\n",
       "    <tr>\n",
       "      <th>5</th>\n",
       "      <td>5</td>\n",
       "      <td>POLK FLEA MARKET</td>\n",
       "      <td>520 S PACIFIC HWY</td>\n",
       "      <td>RICKREALL</td>\n",
       "      <td>OR</td>\n",
       "      <td>97371</td>\n",
       "      <td>Valid</td>\n",
       "    </tr>\n",
       "    <tr>\n",
       "      <th>6</th>\n",
       "      <td>6</td>\n",
       "      <td>PORTLAND SATURDAY MARKET</td>\n",
       "      <td>2 SW NAITO PKWY</td>\n",
       "      <td>PORTLAND</td>\n",
       "      <td>OR</td>\n",
       "      <td>97204</td>\n",
       "      <td>Valid</td>\n",
       "    </tr>\n",
       "    <tr>\n",
       "      <th>7</th>\n",
       "      <td>7</td>\n",
       "      <td>POSSIBILITIES THRIFT STORE</td>\n",
       "      <td>U.S. 97</td>\n",
       "      <td>MADRAS</td>\n",
       "      <td>OR</td>\n",
       "      <td>97741</td>\n",
       "      <td>Invalid</td>\n",
       "    </tr>\n",
       "    <tr>\n",
       "      <th>8</th>\n",
       "      <td>8</td>\n",
       "      <td>SHERWOOD SATURDAY MARKET</td>\n",
       "      <td>22622 SW PINE ST</td>\n",
       "      <td>SHERWOOD</td>\n",
       "      <td>OR</td>\n",
       "      <td>97140</td>\n",
       "      <td>Valid</td>\n",
       "    </tr>\n",
       "    <tr>\n",
       "      <th>9</th>\n",
       "      <td>9</td>\n",
       "      <td>TRADERS VILLAGE GRAND PRAIRIE</td>\n",
       "      <td>2602 MAYFIELD RD</td>\n",
       "      <td>GRAND PRAIRIE</td>\n",
       "      <td>TX</td>\n",
       "      <td>75052-7246</td>\n",
       "      <td>Valid</td>\n",
       "    </tr>\n",
       "    <tr>\n",
       "      <th>10</th>\n",
       "      <td>10</td>\n",
       "      <td>TRASH TO TREASURE</td>\n",
       "      <td>4432 SANTIAM HIGHWAY</td>\n",
       "      <td>SWEET HOME</td>\n",
       "      <td>OR</td>\n",
       "      <td>97386</td>\n",
       "      <td>Invalid</td>\n",
       "    </tr>\n",
       "  </tbody>\n",
       "</table>\n",
       "</div>"
      ],
      "text/plain": [
       "    Unnamed: 0                        Company                Street  \\\n",
       "0            0  BEND PAWN & TRADING CO-LAPINE         52504 U.S. 97   \n",
       "1            1  CARDIOSTART RESALE THRIFT STR     435 W CASCADE AVE   \n",
       "2            2              CASH AMERICA PAWN  2618 W INTERSTATE 20   \n",
       "3            3               DAV THRIFT STORE   2310 ROCK ISLAND RD   \n",
       "4            4               NEW THRIFT STORE      3359 W WALNUT ST   \n",
       "5            5               POLK FLEA MARKET     520 S PACIFIC HWY   \n",
       "6            6       PORTLAND SATURDAY MARKET       2 SW NAITO PKWY   \n",
       "7            7     POSSIBILITIES THRIFT STORE               U.S. 97   \n",
       "8            8       SHERWOOD SATURDAY MARKET      22622 SW PINE ST   \n",
       "9            9  TRADERS VILLAGE GRAND PRAIRIE      2602 MAYFIELD RD   \n",
       "10          10              TRASH TO TREASURE  4432 SANTIAM HIGHWAY   \n",
       "\n",
       "             City  St     ZIPCode  IsValid  \n",
       "0         LA PINE  OR       97739  Invalid  \n",
       "1         SISTERS  OR       97759    Valid  \n",
       "2   GRAND PRAIRIE  TX  75052-7031    Valid  \n",
       "3          IRVING  TX  75060-2409    Valid  \n",
       "4         GARLAND  TX  75042-7160    Valid  \n",
       "5       RICKREALL  OR       97371    Valid  \n",
       "6        PORTLAND  OR       97204    Valid  \n",
       "7          MADRAS  OR       97741  Invalid  \n",
       "8        SHERWOOD  OR       97140    Valid  \n",
       "9   GRAND PRAIRIE  TX  75052-7246    Valid  \n",
       "10     SWEET HOME  OR       97386  Invalid  "
      ]
     },
     "execution_count": 92,
     "metadata": {},
     "output_type": "execute_result"
    }
   ],
   "source": [
    "pd.read_csv(\"Python Quiz Input - Sheet1 - Copy.csv\")"
   ]
  },
  {
   "cell_type": "code",
   "execution_count": 90,
   "id": "806b97e9",
   "metadata": {},
   "outputs": [
    {
     "data": {
      "text/html": [
       "<div>\n",
       "<style scoped>\n",
       "    .dataframe tbody tr th:only-of-type {\n",
       "        vertical-align: middle;\n",
       "    }\n",
       "\n",
       "    .dataframe tbody tr th {\n",
       "        vertical-align: top;\n",
       "    }\n",
       "\n",
       "    .dataframe thead th {\n",
       "        text-align: right;\n",
       "    }\n",
       "</style>\n",
       "<table border=\"1\" class=\"dataframe\">\n",
       "  <thead>\n",
       "    <tr style=\"text-align: right;\">\n",
       "      <th></th>\n",
       "      <th>Company</th>\n",
       "      <th>Street</th>\n",
       "      <th>City</th>\n",
       "      <th>St</th>\n",
       "      <th>ZIPCode</th>\n",
       "    </tr>\n",
       "  </thead>\n",
       "  <tbody>\n",
       "    <tr>\n",
       "      <th>0</th>\n",
       "      <td>BEND PAWN &amp; TRADING CO-LAPINE</td>\n",
       "      <td>52504 U.S. 97</td>\n",
       "      <td>LA PINE</td>\n",
       "      <td>OR</td>\n",
       "      <td>97739</td>\n",
       "    </tr>\n",
       "    <tr>\n",
       "      <th>1</th>\n",
       "      <td>CARDIOSTART RESALE THRIFT STR</td>\n",
       "      <td>435 W CASCADE AVE</td>\n",
       "      <td>SISTERS</td>\n",
       "      <td>OR</td>\n",
       "      <td>97759</td>\n",
       "    </tr>\n",
       "    <tr>\n",
       "      <th>2</th>\n",
       "      <td>CASH AMERICA PAWN</td>\n",
       "      <td>2618 W INTERSTATE 20</td>\n",
       "      <td>GRAND PRAIRIE</td>\n",
       "      <td>TX</td>\n",
       "      <td>75052-7031</td>\n",
       "    </tr>\n",
       "    <tr>\n",
       "      <th>3</th>\n",
       "      <td>DAV THRIFT STORE</td>\n",
       "      <td>2310 ROCK ISLAND RD</td>\n",
       "      <td>IRVING</td>\n",
       "      <td>TX</td>\n",
       "      <td>75060-2409</td>\n",
       "    </tr>\n",
       "    <tr>\n",
       "      <th>4</th>\n",
       "      <td>NEW THRIFT STORE</td>\n",
       "      <td>3359 W WALNUT ST</td>\n",
       "      <td>GARLAND</td>\n",
       "      <td>TX</td>\n",
       "      <td>75042-7160</td>\n",
       "    </tr>\n",
       "    <tr>\n",
       "      <th>5</th>\n",
       "      <td>POLK FLEA MARKET</td>\n",
       "      <td>520 S PACIFIC HWY</td>\n",
       "      <td>RICKREALL</td>\n",
       "      <td>OR</td>\n",
       "      <td>97371</td>\n",
       "    </tr>\n",
       "    <tr>\n",
       "      <th>6</th>\n",
       "      <td>PORTLAND SATURDAY MARKET</td>\n",
       "      <td>2 SW NAITO PKWY</td>\n",
       "      <td>PORTLAND</td>\n",
       "      <td>OR</td>\n",
       "      <td>97204</td>\n",
       "    </tr>\n",
       "    <tr>\n",
       "      <th>7</th>\n",
       "      <td>POSSIBILITIES THRIFT STORE</td>\n",
       "      <td>U.S. 97</td>\n",
       "      <td>MADRAS</td>\n",
       "      <td>OR</td>\n",
       "      <td>97741</td>\n",
       "    </tr>\n",
       "    <tr>\n",
       "      <th>8</th>\n",
       "      <td>SHERWOOD SATURDAY MARKET</td>\n",
       "      <td>22622 SW PINE ST</td>\n",
       "      <td>SHERWOOD</td>\n",
       "      <td>OR</td>\n",
       "      <td>97140</td>\n",
       "    </tr>\n",
       "    <tr>\n",
       "      <th>9</th>\n",
       "      <td>TRADERS VILLAGE GRAND PRAIRIE</td>\n",
       "      <td>2602 MAYFIELD RD</td>\n",
       "      <td>GRAND PRAIRIE</td>\n",
       "      <td>TX</td>\n",
       "      <td>75052-7246</td>\n",
       "    </tr>\n",
       "    <tr>\n",
       "      <th>10</th>\n",
       "      <td>TRASH TO TREASURE</td>\n",
       "      <td>4432 SANTIAM HIGHWAY</td>\n",
       "      <td>SWEET HOME</td>\n",
       "      <td>OR</td>\n",
       "      <td>97386</td>\n",
       "    </tr>\n",
       "  </tbody>\n",
       "</table>\n",
       "</div>"
      ],
      "text/plain": [
       "                          Company                Street           City  St  \\\n",
       "0   BEND PAWN & TRADING CO-LAPINE         52504 U.S. 97        LA PINE  OR   \n",
       "1   CARDIOSTART RESALE THRIFT STR     435 W CASCADE AVE        SISTERS  OR   \n",
       "2               CASH AMERICA PAWN  2618 W INTERSTATE 20  GRAND PRAIRIE  TX   \n",
       "3                DAV THRIFT STORE   2310 ROCK ISLAND RD         IRVING  TX   \n",
       "4                NEW THRIFT STORE      3359 W WALNUT ST        GARLAND  TX   \n",
       "5                POLK FLEA MARKET     520 S PACIFIC HWY      RICKREALL  OR   \n",
       "6        PORTLAND SATURDAY MARKET       2 SW NAITO PKWY       PORTLAND  OR   \n",
       "7      POSSIBILITIES THRIFT STORE               U.S. 97         MADRAS  OR   \n",
       "8        SHERWOOD SATURDAY MARKET      22622 SW PINE ST       SHERWOOD  OR   \n",
       "9   TRADERS VILLAGE GRAND PRAIRIE      2602 MAYFIELD RD  GRAND PRAIRIE  TX   \n",
       "10              TRASH TO TREASURE  4432 SANTIAM HIGHWAY     SWEET HOME  OR   \n",
       "\n",
       "       ZIPCode  \n",
       "0        97739  \n",
       "1        97759  \n",
       "2   75052-7031  \n",
       "3   75060-2409  \n",
       "4   75042-7160  \n",
       "5        97371  \n",
       "6        97204  \n",
       "7        97741  \n",
       "8        97140  \n",
       "9   75052-7246  \n",
       "10       97386  "
      ]
     },
     "execution_count": 90,
     "metadata": {},
     "output_type": "execute_result"
    }
   ],
   "source": [
    "pd.read_csv(\"Python Quiz Input - Sheet1.csv\")"
   ]
  },
  {
   "cell_type": "code",
   "execution_count": null,
   "id": "86708fcb",
   "metadata": {},
   "outputs": [],
   "source": []
  },
  {
   "cell_type": "code",
   "execution_count": null,
   "id": "28d32763",
   "metadata": {},
   "outputs": [],
   "source": []
  },
  {
   "cell_type": "code",
   "execution_count": null,
   "id": "48e96fd5",
   "metadata": {},
   "outputs": [],
   "source": []
  },
  {
   "cell_type": "code",
   "execution_count": null,
   "id": "9c842087",
   "metadata": {},
   "outputs": [],
   "source": []
  },
  {
   "cell_type": "code",
   "execution_count": null,
   "id": "b70beb70",
   "metadata": {},
   "outputs": [],
   "source": []
  },
  {
   "cell_type": "code",
   "execution_count": null,
   "id": "4c7c4d49",
   "metadata": {},
   "outputs": [],
   "source": []
  },
  {
   "cell_type": "code",
   "execution_count": null,
   "id": "de23a4f0",
   "metadata": {},
   "outputs": [],
   "source": []
  },
  {
   "cell_type": "code",
   "execution_count": null,
   "id": "856fefb2",
   "metadata": {},
   "outputs": [],
   "source": []
  },
  {
   "cell_type": "code",
   "execution_count": null,
   "id": "faf39a63",
   "metadata": {},
   "outputs": [],
   "source": []
  },
  {
   "cell_type": "code",
   "execution_count": null,
   "id": "3bdd63b5",
   "metadata": {},
   "outputs": [],
   "source": []
  },
  {
   "cell_type": "code",
   "execution_count": null,
   "id": "3ca7173a",
   "metadata": {},
   "outputs": [],
   "source": []
  },
  {
   "cell_type": "code",
   "execution_count": null,
   "id": "de5493f4",
   "metadata": {},
   "outputs": [],
   "source": []
  }
 ],
 "metadata": {
  "kernelspec": {
   "display_name": "Python 3 (ipykernel)",
   "language": "python",
   "name": "python3"
  },
  "language_info": {
   "codemirror_mode": {
    "name": "ipython",
    "version": 3
   },
   "file_extension": ".py",
   "mimetype": "text/x-python",
   "name": "python",
   "nbconvert_exporter": "python",
   "pygments_lexer": "ipython3",
   "version": "3.9.7"
  }
 },
 "nbformat": 4,
 "nbformat_minor": 5
}
